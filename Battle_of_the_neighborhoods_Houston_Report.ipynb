{
 "cells": [
  {
   "cell_type": "markdown",
   "metadata": {},
   "source": [
    "# Battle of the Neighborhoods! \n",
    "## Houston, Texas Edition\n",
    "## Report\n",
    "***"
   ]
  },
  {
   "cell_type": "markdown",
   "metadata": {},
   "source": [
    "## Description of the problem:\n",
    "I am going to analyze neighborhoods in Houston, Texas and try to find the hottest areas for socializing and finding great food.\n",
    "Houston is the largest city in Texas, so I will constrain the analysis to neighborhoods within 15km of Downtown Houston, TX\n",
    "\n",
    "Interested parties for this analysis would be people looking to move into the area, or just explore Houston's finest!\n",
    "As one of the most diverse cities in Texas, Houston is a mecca for exploring and experiencing different cultures by their eateries\n",
    "***"
   ]
  },
  {
   "cell_type": "markdown",
   "metadata": {},
   "source": [
    "## The data used, and how we will use it to solve our problem\n",
    "Simply using google and our GitHub community, we can locate a real estate website that lists Houston neighborhoods, zips, and housing information.\n",
    "\n",
    "Once we webscrape, we can clean the data and merge with a master USA zip code/lat/long csv located on GitHub.\n",
    "\n",
    "After a quick mapping utilizing Folium, we can use FourSquare to gather venue data on our locations of choice; that again being neighborhoods within 15km of Downtown. This will allow for a quick Uber ride to the venue of our choice from one central location!"
   ]
  },
  {
   "cell_type": "markdown",
   "metadata": {},
   "source": []
  },
  {
   "cell_type": "markdown",
   "metadata": {},
   "source": []
  },
  {
   "cell_type": "markdown",
   "metadata": {},
   "source": []
  },
  {
   "cell_type": "markdown",
   "metadata": {},
   "source": []
  },
  {
   "cell_type": "markdown",
   "metadata": {},
   "source": []
  },
  {
   "cell_type": "markdown",
   "metadata": {},
   "source": []
  },
  {
   "cell_type": "markdown",
   "metadata": {},
   "source": []
  },
  {
   "cell_type": "markdown",
   "metadata": {},
   "source": []
  },
  {
   "cell_type": "markdown",
   "metadata": {},
   "source": []
  }
 ],
 "metadata": {
  "kernelspec": {
   "display_name": "Python 3",
   "language": "python",
   "name": "python3"
  },
  "language_info": {
   "codemirror_mode": {
    "name": "ipython",
    "version": 3
   },
   "file_extension": ".py",
   "mimetype": "text/x-python",
   "name": "python",
   "nbconvert_exporter": "python",
   "pygments_lexer": "ipython3",
   "version": "3.8.5"
  }
 },
 "nbformat": 4,
 "nbformat_minor": 4
}
